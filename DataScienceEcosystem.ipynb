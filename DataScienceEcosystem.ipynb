{
 "cells": [
  {
   "cell_type": "markdown",
   "id": "33464bc3-dad5-4726-ab8a-e85d31bdae3b",
   "metadata": {},
   "source": [
    "# Data Science Tools and Ecosystem"
   ]
  },
  {
   "cell_type": "markdown",
   "id": "66bb9a0c-0d51-4725-b715-83d6423e7795",
   "metadata": {},
   "source": [
    "In this notebook, Data Science Tools and Ecosystem are summarized."
   ]
  },
  {
   "cell_type": "markdown",
   "id": "16b3f9f9-ade6-460a-aa3b-784f038a3241",
   "metadata": {},
   "source": [
    "Some of the popular languages that Data Scientists use are:\n",
    "\n",
    "1. Python\n",
    "2. R\n",
    "3. SQL\n",
    "4. Julia"
   ]
  },
  {
   "cell_type": "markdown",
   "id": "f9910c7a-3126-47f8-9e15-1ba2dc01dad5",
   "metadata": {},
   "source": [
    "Some of the commonly used libraries used by Data Scientists include:\n",
    "\n",
    "1. Pandas\n",
    "2. NumPy\n",
    "3. Matplotlib\n",
    "4. Scikit-lear"
   ]
  },
  {
   "cell_type": "markdown",
   "id": "63322c79-d51b-4de2-8a83-d0f5f74b5c67",
   "metadata": {},
   "source": [
    "| Data Science Tools |\n",
    "|--------------------|\n",
    "| Jupyter Notebook   |\n",
    "| RStudio            |\n",
    "| Jupyter Lab        |"
   ]
  },
  {
   "cell_type": "markdown",
   "id": "4220bf0a-a6af-42f6-8ee2-02ef8be6fc6f",
   "metadata": {},
   "source": [
    "### Below are a few examples of evaluating arithmetic expressions in Python:\n",
    "\n",
    "- 5 + 3 = 8\n",
    "- 10 - 4 = 6\n",
    "- 7 * 6 = 42\n",
    "- 12 / 4 = 3.0\n",
    "- 5 ** 2 = 25\n",
    "- 9 % 4 = 1"
   ]
  },
  {
   "cell_type": "markdown",
   "id": "462083c9-cccc-420e-aaf3-1ea2a7052cb7",
   "metadata": {},
   "source": [
    "# This is a simple arithmetic expression to multiply then add integers\n",
    "result = (3 * 4) + 5\n",
    "result"
   ]
  },
  {
   "cell_type": "markdown",
   "id": "37fb2da4-be85-4160-a596-283a7089101a",
   "metadata": {},
   "source": [
    "# This is a simple arithmetic expression to multiply then add integers\n",
    "result = (3 * 4) + 5\n",
    "result     print()"
   ]
  },
  {
   "cell_type": "markdown",
   "id": "cc850277-17ae-4f91-99d0-3cdc5f611f93",
   "metadata": {},
   "source": [
    "# This is a simple arithmetic expression to multiply then add integers\n",
    "result = (3 * 4) + 5\n",
    "print(result)"
   ]
  },
  {
   "cell_type": "markdown",
   "id": "879d3d64-8368-4006-9c02-cfea054c3e22",
   "metadata": {},
   "source": []
  },
  {
   "cell_type": "markdown",
   "id": "2118a97a-66cd-4ad5-8a96-6c488de3f4fa",
   "metadata": {},
   "source": [
    "### Below is an example of an arithmetic expression to multiply and add integers:\n",
    "\n",
    "```python\n",
    "# This is a simple arithmetic expression to multiply then add integers\n",
    "result = (3 * 4) + 5\n",
    "print(result)  # This will print the result of the operation"
   ]
  },
  {
   "cell_type": "code",
   "execution_count": 9,
   "id": "56e4b2fc-ce1f-45b0-bb87-1663ae996cfc",
   "metadata": {},
   "outputs": [
    {
     "name": "stdout",
     "output_type": "stream",
     "text": [
      "17\n"
     ]
    }
   ],
   "source": [
    "# This is a simple arithmetic expression to multiply then add integers\n",
    "result = (3 * 4) + 5\n",
    "print(result)"
   ]
  },
  {
   "cell_type": "code",
   "execution_count": 10,
   "id": "78a05a6d-1661-4175-a53f-4cdf2782c666",
   "metadata": {},
   "outputs": [
    {
     "name": "stdout",
     "output_type": "stream",
     "text": [
      "3.3333333333333335\n"
     ]
    }
   ],
   "source": [
    "# This will convert 200 minutes to hours by dividing by 60\n",
    "minutes = 200\n",
    "hours = minutes / 60\n",
    "print(hours)"
   ]
  },
  {
   "cell_type": "markdown",
   "id": "80b576d8-506e-4d42-95b8-b363fe9e561f",
   "metadata": {},
   "source": [
    "**Objectives:**\n",
    "\n",
    "- List popular languages for Data Science\n",
    "- List commonly used libraries for Data Science\n",
    "- Identify key Data Science tools\n",
    "- Understand basic arithmetic operations in Python\n",
    "- Convert time units (e.g., minutes to hours)"
   ]
  },
  {
   "cell_type": "markdown",
   "id": "c6a035b0-a13c-49db-a4db-cc14439cb80a",
   "metadata": {},
   "source": [
    "## Author\n",
    "\n",
    "Treici Medina"
   ]
  },
  {
   "cell_type": "code",
   "execution_count": null,
   "id": "66bb0867-8143-435c-b8eb-a2beb7408bfc",
   "metadata": {},
   "outputs": [],
   "source": []
  }
 ],
 "metadata": {
  "kernelspec": {
   "display_name": "Python 3 (ipykernel)",
   "language": "python",
   "name": "python3"
  },
  "language_info": {
   "codemirror_mode": {
    "name": "ipython",
    "version": 3
   },
   "file_extension": ".py",
   "mimetype": "text/x-python",
   "name": "python",
   "nbconvert_exporter": "python",
   "pygments_lexer": "ipython3",
   "version": "3.12.8"
  }
 },
 "nbformat": 4,
 "nbformat_minor": 5
}
